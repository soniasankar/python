{
  "nbformat": 4,
  "nbformat_minor": 0,
  "metadata": {
    "colab": {
      "name": "file.ipynb",
      "provenance": [],
      "authorship_tag": "ABX9TyMQcpsdgzEIb5GxMK6yTOgv",
      "include_colab_link": true
    },
    "kernelspec": {
      "name": "python3",
      "display_name": "Python 3"
    }
  },
  "cells": [
    {
      "cell_type": "markdown",
      "metadata": {
        "id": "view-in-github",
        "colab_type": "text"
      },
      "source": [
        "<a href=\"https://colab.research.google.com/github/soniasankar/python/blob/master/file.ipynb\" target=\"_parent\"><img src=\"https://colab.research.google.com/assets/colab-badge.svg\" alt=\"Open In Colab\"/></a>"
      ]
    },
    {
      "cell_type": "code",
      "metadata": {
        "id": "8y1_y7KQWHwA"
      },
      "source": [
        "def blank(oldfile,newfile): \n",
        " f1=open(oldfile,\"r\")\n",
        " f2=open(newfile,\"w\")\n",
        " while True:\n",
        "  txt=f1.readline()\n",
        "  if text == \"\":\n",
        "    break\n",
        "  if txt =='\\0':\n",
        "   continue\n",
        "  f2.write(txt)\n",
        " f1.close()\n",
        " f2.close()\n",
        " return"
      ],
      "execution_count": 11,
      "outputs": []
    }
  ]
}