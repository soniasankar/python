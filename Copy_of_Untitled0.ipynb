{
  "nbformat": 4,
  "nbformat_minor": 0,
  "metadata": {
    "colab": {
      "name": "Copy of Untitled0.ipynb",
      "provenance": [],
      "collapsed_sections": [],
      "authorship_tag": "ABX9TyMWFPjBkFDzR1xIBCGuPZAT",
      "include_colab_link": true
    },
    "kernelspec": {
      "name": "python3",
      "display_name": "Python 3"
    }
  },
  "cells": [
    {
      "cell_type": "markdown",
      "metadata": {
        "id": "view-in-github",
        "colab_type": "text"
      },
      "source": [
        "<a href=\"https://colab.research.google.com/github/soniasankar/python/blob/master/Copy_of_Untitled0.ipynb\" target=\"_parent\"><img src=\"https://colab.research.google.com/assets/colab-badge.svg\" alt=\"Open In Colab\"/></a>"
      ]
    },
    {
      "cell_type": "code",
      "metadata": {
        "id": "HZAF0wRejMVr",
        "outputId": "ddb57677-a76f-4c25-91fe-7f64ac906d4d",
        "colab": {
          "base_uri": "https://localhost:8080/",
          "height": 34
        }
      },
      "source": [
        "#program to get the largest number from the list\n",
        "list=[8,4,40,5,25]\n",
        "large=list[0]\n",
        "for i in list:\n",
        "  if i>large:\n",
        "    large=i\n",
        "print(\"Largest number is:\",large)"
      ],
      "execution_count": null,
      "outputs": [
        {
          "output_type": "stream",
          "text": [
            "Largest number is: 40\n"
          ],
          "name": "stdout"
        }
      ]
    },
    {
      "cell_type": "code",
      "metadata": {
        "id": "9FcwA-v1jkiG",
        "outputId": "09089a42-d8c0-4f0b-bb96-5d3b6dd011eb",
        "colab": {
          "base_uri": "https://localhost:8080/",
          "height": 70
        }
      },
      "source": [
        "#Program to search an element from a list\n",
        "list=[9,45,30,8,44,24]\n",
        "print(list)\n",
        "num=int(input(\"Enter a number to search: \"))\n",
        "for i in list:\n",
        "  if i==num:\n",
        "    print(\"Element found\")\n",
        "    break\n",
        "else:\n",
        "  print(\"Element is not found\")"
      ],
      "execution_count": null,
      "outputs": [
        {
          "output_type": "stream",
          "text": [
            "[9, 45, 30, 8, 44, 24]\n",
            "Enter a number to search: 8\n",
            "Element found\n"
          ],
          "name": "stdout"
        }
      ]
    },
    {
      "cell_type": "code",
      "metadata": {
        "id": "SxDX7g4cjzPV"
      },
      "source": [
        ""
      ],
      "execution_count": null,
      "outputs": []
    },
    {
      "cell_type": "code",
      "metadata": {
        "id": "TZQdEU7kAXqC",
        "outputId": "8151cfd8-3561-474a-90dd-1602533e443b",
        "colab": {
          "base_uri": "https://localhost:8080/",
          "height": 34
        }
      },
      "source": [
        "#program to sum all the items in list\n",
        "list=[1,2,3,9,19]\n",
        "sum=0\n",
        "for i in list:\n",
        "  sum=sum+i\n",
        "print(\"sum is \",sum)"
      ],
      "execution_count": null,
      "outputs": [
        {
          "output_type": "stream",
          "text": [
            "sum is  34\n"
          ],
          "name": "stdout"
        }
      ]
    },
    {
      "cell_type": "code",
      "metadata": {
        "id": "swoFBwdukXTi"
      },
      "source": [
        ""
      ],
      "execution_count": null,
      "outputs": []
    },
    {
      "cell_type": "code",
      "metadata": {
        "id": "eG5W1qu4Bob7",
        "outputId": "6172aceb-1633-44cd-89ac-60797b773777",
        "colab": {
          "base_uri": "https://localhost:8080/",
          "height": 34
        }
      },
      "source": [
        "#program to remove duplicates from a list\n",
        "def Remove(duplicate): \n",
        "\tfinal_list = [] \n",
        "\tfor num in duplicate: \n",
        "\t\tif num not in final_list: \n",
        "\t\t\tfinal_list.append(num) \n",
        "\treturn final_list \n",
        "\t\n",
        "duplicate = [10,20,30,20,10,50,60,40,80,50,40]\n",
        "print(Remove(duplicate))"
      ],
      "execution_count": null,
      "outputs": [
        {
          "output_type": "stream",
          "text": [
            "[10, 20, 30, 50, 60, 40, 80]\n"
          ],
          "name": "stdout"
        }
      ]
    },
    {
      "cell_type": "code",
      "metadata": {
        "id": "Q-hl1cHHkfLx"
      },
      "source": [
        ""
      ],
      "execution_count": null,
      "outputs": []
    },
    {
      "cell_type": "code",
      "metadata": {
        "id": "cdQmDe6ZBvG4",
        "outputId": "6ee18f6d-6713-4526-c6cb-af6dcf00bde9",
        "colab": {
          "base_uri": "https://localhost:8080/",
          "height": 51
        }
      },
      "source": [
        "#function that takes two lists and returns True if they have atleast one common element\n",
        "def list(list1,list2):\n",
        "  for i in list1:\n",
        "    for j in list2:\n",
        "      if i==j:\n",
        "        result= True\n",
        "        return result\n",
        "print(list([1,2,3,4,5],[6,7,8,9,66,3]))\n",
        "print(list([1,2,3,4],[2,4,1,3]))"
      ],
      "execution_count": null,
      "outputs": [
        {
          "output_type": "stream",
          "text": [
            "True\n",
            "True\n"
          ],
          "name": "stdout"
        }
      ]
    },
    {
      "cell_type": "code",
      "metadata": {
        "id": "LUPZnz5pknbn"
      },
      "source": [
        ""
      ],
      "execution_count": null,
      "outputs": []
    },
    {
      "cell_type": "code",
      "metadata": {
        "id": "3yNLZVU-CHyJ",
        "outputId": "f8a42e44-e67f-4b37-b413-5db6626f3302",
        "colab": {
          "base_uri": "https://localhost:8080/",
          "height": 34
        }
      },
      "source": [
        "#Program to append a list to the second list\n",
        "list1=[1,2,3,4,5]\n",
        "list2=['pink','green','red']\n",
        "list=list1+list2\n",
        "print(list)"
      ],
      "execution_count": null,
      "outputs": [
        {
          "output_type": "stream",
          "text": [
            "[1, 2, 3, 4, 5, 'pink', 'green', 'red']\n"
          ],
          "name": "stdout"
        }
      ]
    },
    {
      "cell_type": "code",
      "metadata": {
        "id": "OAgz-fHFkoph"
      },
      "source": [
        ""
      ],
      "execution_count": null,
      "outputs": []
    },
    {
      "cell_type": "code",
      "metadata": {
        "id": "oNWHenKXCkBz",
        "outputId": "b7296741-6463-4e85-ac98-7f6b8dd6f208",
        "colab": {
          "base_uri": "https://localhost:8080/",
          "height": 52
        }
      },
      "source": [
        "#program to  check if a number is composite or not\n",
        "n=int(input(\"enter a number:\"))\n",
        "fact=0\n",
        "for i in range(1,n):\n",
        "  if n%i==0:\n",
        "    fact=i\n",
        "if fact>1:\n",
        "  print(\"composite number\")\n",
        "elif n==1:\n",
        "  print(\"neither composite nor prime\")\n",
        "else:\n",
        "  print(\"prime number\")"
      ],
      "execution_count": null,
      "outputs": [
        {
          "output_type": "stream",
          "text": [
            "enter a number:35\n",
            "composite number\n"
          ],
          "name": "stdout"
        }
      ]
    },
    {
      "cell_type": "code",
      "metadata": {
        "id": "lark8_PtkyDB"
      },
      "source": [
        ""
      ],
      "execution_count": null,
      "outputs": []
    },
    {
      "cell_type": "code",
      "metadata": {
        "id": "MmZEq-1yCxqS",
        "outputId": "81316945-e25c-4391-95d9-9c66ddeedee5",
        "colab": {
          "base_uri": "https://localhost:8080/",
          "height": 34
        }
      },
      "source": [
        "#Program to add 2 matrices using list\n",
        "X=[[2,4,6], [4,8,10], [8,88,9]]\n",
        "Y=[[7,0,4], [2,2,1], [1,1,1]]\n",
        "result=[[0,0,0], [0,0,0], [0,0,0]]\n",
        "for i in range(len(X)):\n",
        "  for j in range(len(X[0])):\n",
        "    result[i][j]=X[i][j]+ Y[i][j]\n",
        "print(\"Sum of matrix\",result)"
      ],
      "execution_count": null,
      "outputs": [
        {
          "output_type": "stream",
          "text": [
            "Sum of matrix [[9, 4, 10], [6, 10, 11], [9, 89, 10]]\n"
          ],
          "name": "stdout"
        }
      ]
    },
    {
      "cell_type": "code",
      "metadata": {
        "id": "-6BXdBzPkz1V"
      },
      "source": [
        ""
      ],
      "execution_count": null,
      "outputs": []
    },
    {
      "cell_type": "code",
      "metadata": {
        "id": "i4HyRKJoDM6A",
        "outputId": "355d88eb-0c19-4868-fe98-f897b1ff326a",
        "colab": {
          "base_uri": "https://localhost:8080/",
          "height": 52
        }
      },
      "source": [
        "#Program to check if string is palindrome or not\n",
        "def isPalindrome(string):\n",
        "  rev=''.join(reversed(string))\n",
        "  if string==rev:\n",
        "    return True\n",
        "  return False\n",
        "string=input(\"Enter a word: \")\n",
        "ans=isPalindrome(string)\n",
        "if (ans):\n",
        "  print(\"Palindrome\")\n",
        "else:\n",
        "  print(\"Not palindrome\")"
      ],
      "execution_count": null,
      "outputs": [
        {
          "output_type": "stream",
          "text": [
            "Enter a word: Table\n",
            "Not palindrome\n"
          ],
          "name": "stdout"
        }
      ]
    },
    {
      "cell_type": "code",
      "metadata": {
        "id": "i802AkuKk-CP"
      },
      "source": [
        ""
      ],
      "execution_count": null,
      "outputs": []
    },
    {
      "cell_type": "code",
      "metadata": {
        "id": "EtgjGQRVDhL2",
        "outputId": "91a2e7c3-7d62-4800-aa63-0fc78039dc89",
        "colab": {
          "base_uri": "https://localhost:8080/",
          "height": 230
        }
      },
      "source": [
        "# Python Program to Print Multiplication Table of a Number\n",
        "\n",
        "num = int(input(\"Enter the number: \"))\n",
        "\n",
        "print(\"Multiplication Table of\", num)\n",
        "for i in range(1, 11):\n",
        "   print(num,\"X\",i,\"=\",num * i)"
      ],
      "execution_count": null,
      "outputs": [
        {
          "output_type": "stream",
          "text": [
            "Enter the number: 8\n",
            "Multiplication Table of 8\n",
            "8 X 1 = 8\n",
            "8 X 2 = 16\n",
            "8 X 3 = 24\n",
            "8 X 4 = 32\n",
            "8 X 5 = 40\n",
            "8 X 6 = 48\n",
            "8 X 7 = 56\n",
            "8 X 8 = 64\n",
            "8 X 9 = 72\n",
            "8 X 10 = 80\n"
          ],
          "name": "stdout"
        }
      ]
    }
  ]
}